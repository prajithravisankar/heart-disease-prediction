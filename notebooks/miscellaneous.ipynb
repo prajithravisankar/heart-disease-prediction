{
 "cells": [
  {
   "metadata": {
    "ExecuteTime": {
     "end_time": "2025-03-27T00:20:40.754718Z",
     "start_time": "2025-03-27T00:20:40.743614Z"
    }
   },
   "cell_type": "code",
   "source": [
    "import pandas as pd\n",
    "\n",
    "train_df = pd.read_csv(\"/Users/prajithravisankar/Documents/lakehead/bigData/project/heart-disease-prediction/data/processed/train_standardized.csv\")\n",
    "print(train_df[['Age', 'Cholesterol']].describe())"
   ],
   "id": "6625e5614ff730e4",
   "outputs": [
    {
     "name": "stdout",
     "output_type": "stream",
     "text": [
      "                Age   Cholesterol\n",
      "count  8.000000e+02  8.000000e+02\n",
      "mean   1.665335e-16 -1.743050e-16\n",
      "std    1.000626e+00  1.000626e+00\n",
      "min   -1.746269e+00 -1.729255e+00\n",
      "25%   -8.509922e-01 -8.658793e-01\n",
      "50%   -1.966411e-02 -3.703881e-02\n",
      "75%    8.756123e-01  8.608717e-01\n",
      "max    1.706940e+00  1.706980e+00\n"
     ]
    }
   ],
   "execution_count": 2
  }
 ],
 "metadata": {
  "kernelspec": {
   "name": "python3",
   "language": "python",
   "display_name": "Python 3 (ipykernel)"
  }
 },
 "nbformat": 5,
 "nbformat_minor": 9
}
