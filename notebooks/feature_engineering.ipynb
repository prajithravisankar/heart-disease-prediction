{
 "cells": [
  {
   "cell_type": "code",
   "execution_count": 2,
   "metadata": {},
   "outputs": [],
   "source": [
    "import pandas as pd\n",
    "import matplotlib.pyplot as plt\n",
    "import seaborn as sns\n",
    "\n",
    "# Load the dataset\n",
    "df = pd.read_csv(\"../data/processed/standardized_data.csv\")\n",
    "\n",
    "#Convert into X and y, where X is the feautures/conditions of users, and Y is if heart disease is present \n",
    "X = df.drop('Heart Disease', axis=1)\n",
    "y = df['Heart Disease']\n"
   ]
  },
  {
   "cell_type": "code",
   "execution_count": 3,
   "metadata": {},
   "outputs": [],
   "source": [
    "from sklearn.preprocessing import StandardScaler\n",
    "\n",
    "# Standardize data to have mean=0 and variance=1\n",
    "scaler = StandardScaler()\n",
    "df[['Age', 'Cholesterol', 'Blood Pressure', 'Heart Rate', 'Blood Sugar', 'Exercise Hours', 'Stress Level']] = scaler.fit_transform(df[['Age', 'Cholesterol', 'Blood Pressure', 'Heart Rate', 'Blood Sugar','Exercise Hours', 'Stress Level']])\n",
    "\n",
    "# Save the cleaned data to a new CSV file\n",
    "df.to_csv(\"../data/processed/standardized_data.csv\", index=False)\n"
   ]
  },
  {
   "cell_type": "code",
   "execution_count": 7,
   "metadata": {},
   "outputs": [
    {
     "name": "stdout",
     "output_type": "stream",
     "text": [
      "The 10 best features by SelectKBest are: Index(['Age', 'Cholesterol', 'Gender_Male', 'Smoking_Former', 'Smoking_Never',\n",
      "       'Alcohol Intake_Moderate', 'Family History_Yes', 'Obesity_Yes',\n",
      "       'Chest Pain Type_Atypical Angina', 'Chest Pain Type_Non-anginal Pain'],\n",
      "      dtype='object')\n"
     ]
    }
   ],
   "source": [
    "from sklearn.feature_selection import SelectKBest, f_classif\n",
    "\n",
    "# Select the best features using SelectKBest\n",
    "k= 10 \n",
    "selector = SelectKBest(score_func=f_classif, k=k)\n",
    "X_selected = selector.fit_transform(X, y)\n",
    "\n",
    "selected_features = X.columns[selector.get_support()]\n",
    "print(f\"The {k} best features by SelectKBest are: {selected_features}\")"
   ]
  },
  {
   "cell_type": "code",
   "execution_count": 6,
   "metadata": {},
   "outputs": [
    {
     "name": "stdout",
     "output_type": "stream",
     "text": [
      "The 10 best features are: Index(['Age', 'Cholesterol', 'Gender_Male', 'Smoking_Former',\n",
      "       'Family History_Yes', 'Diabetes_Yes', 'Exercise Induced Angina_Yes',\n",
      "       'Chest Pain Type_Atypical Angina', 'Chest Pain Type_Non-anginal Pain',\n",
      "       'Chest Pain Type_Typical Angina'],\n",
      "      dtype='object')\n"
     ]
    }
   ],
   "source": [
    "from sklearn.linear_model import LogisticRegression\n",
    "from sklearn.feature_selection import RFE\n",
    "\n",
    "# Create a logistic regression model\n",
    "model = LogisticRegression(max_iter=1000)\n",
    "\n",
    "#Apply RFE with logistic regression\n",
    "rfe = RFE(estimator=model, n_features_to_select=10)\n",
    "X_rfe = rfe.fit_transform(X, y)\n",
    "\n",
    "#Get the selected features from RFE (recursive feature elimination)\n",
    "selected_features_rfe = X.columns[rfe.support_]\n",
    "print(f\"The {k} best features are: {selected_features_rfe}\")\n",
    "\n",
    "#Ranking of features\n",
    "ranking = pd.DataFrame({'Feature': X.columns, 'Rank': rfe.ranking_})\n",
    "ranking = ranking.sort_values(by='Rank')"
   ]
  },
  {
   "cell_type": "code",
   "execution_count": 12,
   "metadata": {},
   "outputs": [
    {
     "name": "stdout",
     "output_type": "stream",
     "text": [
      "The largest cholesterol value is: 349.0\n",
      "   Cholesterol  Cholesterol_low  Cholesterol_medium  Cholesterol_high\n",
      "0        228.0             0.00                0.44              0.28\n",
      "1        204.0             0.00                0.92              0.04\n",
      "2        234.0             0.00                0.32              0.34\n",
      "3        192.0             0.04                0.84              0.00\n",
      "4        172.0             0.14                0.44              0.00\n"
     ]
    }
   ],
   "source": [
    "import numpy as np\n",
    "import skfuzzy as fuzz\n",
    "import pandas as pd\n",
    "\n",
    "# Load the dataset\n",
    "df = pd.read_csv(\"../data/processed/cleaned_data.csv\")\n",
    "\n",
    "# Assume 'cholesterol' is the column with cholesterol levels in the dataset\n",
    "cholesterol_values = df['Cholesterol'].values  # Extract the cholesterol values\n",
    "\n",
    "# Define the range of cholesterol values for fuzzification\n",
    "max_cholesterol = df['Cholesterol'].max()\n",
    "print(f\"The largest cholesterol value is: {max_cholesterol}\")\n",
    "\n",
    "cholesterol_range = np.arange(0, 350, 1)\n",
    "\n",
    "# Create fuzzy membership functions for cholesterol levels\n",
    "low_chol = fuzz.trimf(cholesterol_range, [0, 0, 200])     # Low cholesterol: 0-200\n",
    "medium_chol = fuzz.trimf(cholesterol_range, [150, 200, 250])  # Medium cholesterol: 200-240\n",
    "high_chol = fuzz.trimf(cholesterol_range, [200, 300, 350])    # High cholesterol: 240+\n",
    "\n",
    "# Fuzzify the cholesterol values from the dataset\n",
    "low_chol_membership = fuzz.interp_membership(cholesterol_range, low_chol, cholesterol_values)\n",
    "medium_chol_membership = fuzz.interp_membership(cholesterol_range, medium_chol, cholesterol_values)\n",
    "high_chol_membership = fuzz.interp_membership(cholesterol_range, high_chol, cholesterol_values)\n",
    "\n",
    "# Add the membership values as new columns in the DataFrame\n",
    "df['Cholesterol_low'] = low_chol_membership\n",
    "df['Cholesterol_medium'] = medium_chol_membership\n",
    "df['Cholesterol_high'] = high_chol_membership\n",
    "\n",
    "# Optionally, you can check the first few rows to confirm the new columns\n",
    "print(df[['Cholesterol', 'Cholesterol_low', 'Cholesterol_medium', 'Cholesterol_high']].head())\n",
    "\n",
    "# Save the fuzzified data to a new CSV file\n",
    "df.to_csv(\"../data/processed/cleaned_data.csv\", index=False)\n"
   ]
  },
  {
   "cell_type": "code",
   "execution_count": null,
   "metadata": {},
   "outputs": [
    {
     "name": "stdout",
     "output_type": "stream",
     "text": [
      "The largest Blood Pressure value is: 179.0\n",
      "   Blood Pressure  Blood_Pressure_Low  Blood_Pressure_Medium  \\\n",
      "0           119.0                 0.0               0.033333   \n",
      "1           165.0                 0.0               0.000000   \n",
      "2            91.0                 0.0               0.966667   \n",
      "3            90.0                 0.0               1.000000   \n",
      "4           163.0                 0.0               0.000000   \n",
      "\n",
      "   Blood_Pressure_High  \n",
      "0                0.475  \n",
      "1                0.375  \n",
      "2                0.000  \n",
      "3                0.000  \n",
      "4                0.425  \n"
     ]
    }
   ],
   "source": [
    "import numpy as np\n",
    "import skfuzzy as fuzz\n",
    "import pandas as pd\n",
    "\n",
    "# Load the dataset\n",
    "df = pd.read_csv(\"../data/processed/cleaned_data.csv\")\n",
    "\n",
    "# Extract the blood pressure values\n",
    "blood_pressure_values = df['Blood Pressure'].values \n",
    "\n",
    "# Define the range of blood pressure values for fuzzification\n",
    "max_blood_pressure = df['Blood Pressure'].max()\n",
    "print(f\"The largest Blood Pressure value is: {max_blood_pressure}\")\n",
    "\n",
    "# Define the blood pressure range (from 0 to 180)\n",
    "blood_pressure_range = np.arange(0, 181, 1)\n",
    "\n",
    "# Create fuzzy membership functions for blood pressure levels\n",
    "low_bp = fuzz.trimf(blood_pressure_range, [0, 0, 80])     # Low blood pressure: 0-80\n",
    "medium_bp = fuzz.trimf(blood_pressure_range, [60, 90, 120])  # Medium blood pressure: 80-120\n",
    "high_bp = fuzz.trimf(blood_pressure_range, [100, 140, 180])    # High blood pressure: 120-180\n",
    "\n",
    "# Fuzzify the blood pressure values from the dataset\n",
    "low_bp_membership = fuzz.interp_membership(blood_pressure_range, low_bp, blood_pressure_values)\n",
    "medium_bp_membership = fuzz.interp_membership(blood_pressure_range, medium_bp, blood_pressure_values)\n",
    "high_bp_membership = fuzz.interp_membership(blood_pressure_range, high_bp, blood_pressure_values)\n",
    "\n",
    "# Add the membership values as new columns in the DataFrame\n",
    "df['Blood_Pressure_Low'] = low_bp_membership\n",
    "df['Blood_Pressure_Medium'] = medium_bp_membership\n",
    "df['Blood_Pressure_High'] = high_bp_membership\n",
    "\n",
    "# Optionally, you can check the first few rows to confirm the new columns\n",
    "print(df[['Blood Pressure', 'Blood_Pressure_Low', 'Blood_Pressure_Medium', 'Blood_Pressure_High']].head())\n",
    "\n",
    "# Save the fuzzified data to a new CSV file\n",
    "df.to_csv(\"../data/processed/cleaned_data.csv\", index=False)\n"
   ]
  },
  {
   "cell_type": "code",
   "execution_count": 22,
   "metadata": {},
   "outputs": [
    {
     "name": "stdout",
     "output_type": "stream",
     "text": [
      "The highest Heart Rate value is: 99.0\n",
      "   Heart Rate  Heart_Rate_Low  Heart_Rate_Medium  Heart_Rate_High\n",
      "0        66.0             0.0                0.9              0.0\n",
      "1        62.0             0.0                0.8              0.0\n",
      "2        67.0             0.0                0.8              0.0\n",
      "3        72.0             0.0                0.3              0.1\n",
      "4        93.0             0.0                0.0              0.0\n"
     ]
    }
   ],
   "source": [
    "import numpy as np\n",
    "import skfuzzy as fuzz\n",
    "import pandas as pd\n",
    "\n",
    "# Load the dataset\n",
    "df = pd.read_csv(\"../data/processed/cleaned_data.csv\")  \n",
    "\n",
    "# Extract the heart rate values\n",
    "heart_rate_values = df['Heart Rate'].values  # Extract the heart rate values\n",
    "\n",
    "# Get the max heart rate from dataset\n",
    "max_heart_rate = df['Heart Rate'].max()\n",
    "print(f\"The highest Heart Rate value is: {max_heart_rate}\")\n",
    "\n",
    "# Define the heart rate range (0 to 90, based on the highest value in dataset)\n",
    "heart_rate_range = np.arange(0, 91, 1)  # Adjusted to match dataset\n",
    "\n",
    "# Create fuzzy membership functions for heart rate levels\n",
    "low_hr = fuzz.trimf(heart_rate_range, [0, 0, 60])       # Low heart rate: 0-60\n",
    "medium_hr = fuzz.trimf(heart_rate_range, [50, 65, 75])  # Medium heart rate: 60-75\n",
    "high_hr = fuzz.trimf(heart_rate_range, [70, 90, 90])    # High heart rate: 75-90\n",
    "\n",
    "# Fuzzify the heart rate values from the dataset\n",
    "low_hr_membership = fuzz.interp_membership(heart_rate_range, low_hr, heart_rate_values)\n",
    "medium_hr_membership = fuzz.interp_membership(heart_rate_range, medium_hr, heart_rate_values)\n",
    "high_hr_membership = fuzz.interp_membership(heart_rate_range, high_hr, heart_rate_values)\n",
    "\n",
    "# Add the membership values as new columns in the DataFrame\n",
    "df['Heart_Rate_Low'] = low_hr_membership\n",
    "df['Heart_Rate_Medium'] = medium_hr_membership\n",
    "df['Heart_Rate_High'] = high_hr_membership\n",
    "\n",
    "# Display a sample of the updated data\n",
    "print(df[['Heart Rate', 'Heart_Rate_Low', 'Heart_Rate_Medium', 'Heart_Rate_High']].head())\n",
    "\n",
    "# Save the fuzzified dataset\n",
    "df.to_csv(\"../data/processed/cleaned_data.csv\", index=False)\n"
   ]
  }
 ],
 "metadata": {
  "kernelspec": {
   "display_name": "Python 3",
   "language": "python",
   "name": "python3"
  },
  "language_info": {
   "codemirror_mode": {
    "name": "ipython",
    "version": 3
   },
   "file_extension": ".py",
   "mimetype": "text/x-python",
   "name": "python",
   "nbconvert_exporter": "python",
   "pygments_lexer": "ipython3",
   "version": "3.11.5"
  }
 },
 "nbformat": 4,
 "nbformat_minor": 2
}
