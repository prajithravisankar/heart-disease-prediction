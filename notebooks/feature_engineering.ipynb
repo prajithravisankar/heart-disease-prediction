{
 "cells": [
  {
   "cell_type": "code",
   "execution_count": 60,
   "metadata": {},
   "outputs": [],
   "source": [
    "import pandas as pd\n",
    "import matplotlib.pyplot as plt\n",
    "import seaborn as sns\n",
    "\n",
    "# Load the dataset\n",
    "df = pd.read_csv(\"../data/processed/standardized_data.csv\")\n",
    "\n",
    "#Convert into X and y, where X is the feautures/conditions of users, and Y is if heart disease is present \n",
    "X = df.drop('Heart Disease', axis=1)\n",
    "y = df['Heart Disease']\n"
   ]
  },
  {
   "cell_type": "code",
   "execution_count": 65,
   "metadata": {},
   "outputs": [],
   "source": [
    "from sklearn.preprocessing import StandardScaler\n",
    "\n",
    "# Standardize data to have mean=0 and variance=1\n",
    "scaler = StandardScaler()\n",
    "df[['Age', 'Cholesterol', 'Blood Pressure', 'Heart Rate', 'Blood Sugar', 'Exercise Hours', 'Stress Level']] = scaler.fit_transform(df[['Age', 'Cholesterol', 'Blood Pressure', 'Heart Rate', 'Blood Sugar','Exercise Hours', 'Stress Level']])\n",
    "\n",
    "# Save the cleaned data to a new CSV file\n",
    "df.to_csv(\"../data/processed/standardized_data.csv\", index=False)\n"
   ]
  },
  {
   "cell_type": "code",
   "execution_count": null,
   "metadata": {},
   "outputs": [
    {
     "name": "stdout",
     "output_type": "stream",
     "text": [
      "The 10 best features by SelectKBest are: Index(['Age', 'Cholesterol', 'Gender_Male', 'Smoking_Former', 'Smoking_Never',\n",
      "       'Alcohol Intake_Moderate', 'Family History_Yes', 'Obesity_Yes',\n",
      "       'Chest Pain Type_Atypical Angina', 'Chest Pain Type_Non-anginal Pain'],\n",
      "      dtype='object')\n"
     ]
    }
   ],
   "source": [
    "from sklearn.feature_selection import SelectKBest, f_classif\n",
    "\n",
    "# Select the best features using SelectKBest\n",
    "k= 10 \n",
    "selector = SelectKBest(score_func=f_classif, k=k)\n",
    "X_selected = selector.fit_transform(X, y)\n",
    "\n",
    "selected_features = X.columns[selector.get_support()]\n",
    "print(f\"The {k} best features by SelectKBest are: {selected_features}\")"
   ]
  },
  {
   "cell_type": "code",
   "execution_count": 66,
   "metadata": {},
   "outputs": [
    {
     "name": "stdout",
     "output_type": "stream",
     "text": [
      "The 10 best features are: Index(['Age', 'Cholesterol', 'Gender_Male', 'Smoking_Former',\n",
      "       'Family History_Yes', 'Diabetes_Yes', 'Exercise Induced Angina_Yes',\n",
      "       'Chest Pain Type_Atypical Angina', 'Chest Pain Type_Non-anginal Pain',\n",
      "       'Chest Pain Type_Typical Angina'],\n",
      "      dtype='object')\n"
     ]
    }
   ],
   "source": [
    "from sklearn.linear_model import LogisticRegression\n",
    "from sklearn.feature_selection import RFE\n",
    "\n",
    "# Create a logistic regression model\n",
    "model = LogisticRegression(max_iter=1000)\n",
    "\n",
    "#Apply RFE with logistic regression\n",
    "rfe = RFE(estimator=model, n_features_to_select=10)\n",
    "X_rfe = rfe.fit_transform(X, y)\n",
    "\n",
    "#Get the selected features from RFE (recursive feature elimination)\n",
    "selected_features_rfe = X.columns[rfe.support_]\n",
    "print(f\"The {k} best features are: {selected_features_rfe}\")\n",
    "\n",
    "#Ranking of features\n",
    "ranking = pd.DataFrame({'Feature': X.columns, 'Rank': rfe.ranking_})\n",
    "ranking = ranking.sort_values(by='Rank')"
   ]
  }
 ],
 "metadata": {
  "kernelspec": {
   "display_name": "Python 3",
   "language": "python",
   "name": "python3"
  },
  "language_info": {
   "codemirror_mode": {
    "name": "ipython",
    "version": 3
   },
   "file_extension": ".py",
   "mimetype": "text/x-python",
   "name": "python",
   "nbconvert_exporter": "python",
   "pygments_lexer": "ipython3",
   "version": "3.11.5"
  }
 },
 "nbformat": 4,
 "nbformat_minor": 2
}
