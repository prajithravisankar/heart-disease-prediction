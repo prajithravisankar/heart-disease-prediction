{
 "cells": [
  {
   "cell_type": "code",
   "metadata": {
    "ExecuteTime": {
     "end_time": "2025-03-26T23:09:32.454918Z",
     "start_time": "2025-03-26T23:09:32.393618Z"
    }
   },
   "source": [
    "import pandas as pd\n",
    "from sklearn.model_selection import train_test_split\n",
    "\n",
    "# Load CLEANED data (not standardized)\n",
    "df = pd.read_csv(\"../data/processed/cleaned_data.csv\")  # <-- Use cleaned_data.csv\n",
    "\n",
    "# Split into features (X) and target (y)\n",
    "X = df.drop(\"Heart Disease\", axis=1)\n",
    "y = df[\"Heart Disease\"]\n",
    "\n",
    "# Split into training and testing sets FIRST\n",
    "X_train, X_test, y_train, y_test = train_test_split(X, y, test_size=0.2, random_state=42)"
   ],
   "outputs": [],
   "execution_count": 1
  },
  {
   "cell_type": "code",
   "metadata": {
    "ExecuteTime": {
     "end_time": "2025-03-26T23:09:32.458428Z",
     "start_time": "2025-03-26T23:09:32.457158Z"
    }
   },
   "source": [
    "# from sklearn.preprocessing import StandardScaler\n",
    "#\n",
    "# # Standardize data to have mean=0 and variance=1\n",
    "# scaler = StandardScaler()\n",
    "# df[['Age', 'Cholesterol', 'Blood Pressure', 'Heart Rate', 'Blood Sugar', 'Exercise Hours', 'Stress Level']] = scaler.fit_transform(df[['Age', 'Cholesterol', 'Blood Pressure', 'Heart Rate', 'Blood Sugar','Exercise Hours', 'Stress Level']])\n",
    "#\n",
    "# # Save the cleaned data to a new CSV file\n",
    "# df.to_csv(\"../data/processed/standardized_data.csv\", index=False)\n"
   ],
   "outputs": [],
   "execution_count": 2
  },
  {
   "metadata": {
    "ExecuteTime": {
     "end_time": "2025-03-26T23:09:32.514370Z",
     "start_time": "2025-03-26T23:09:32.510812Z"
    }
   },
   "cell_type": "code",
   "source": [
    "#[OPTIONAL If standardization is needed: OTHERWISE COMMENT THIS ONE OUT]\n",
    "from sklearn.preprocessing import StandardScaler\n",
    "\n",
    "# Standardize numerical features (only on training data)\n",
    "numerical_cols = ['Age', 'Cholesterol', 'Blood Pressure', 'Heart Rate', 'Blood Sugar', 'Exercise Hours', 'Stress Level']\n",
    "scaler = StandardScaler()\n",
    "\n",
    "# Fit on training data, transform both train and test\n",
    "X_train[numerical_cols] = scaler.fit_transform(X_train[numerical_cols])\n",
    "X_test[numerical_cols] = scaler.transform(X_test[numerical_cols])  # Use same scaler"
   ],
   "outputs": [],
   "execution_count": 3
  },
  {
   "cell_type": "code",
   "metadata": {
    "ExecuteTime": {
     "end_time": "2025-03-26T23:09:32.568093Z",
     "start_time": "2025-03-26T23:09:32.522900Z"
    }
   },
   "source": [
    "from sklearn.feature_selection import SelectKBest, f_classif\n",
    "\n",
    "# SelectKBest: Fit on training data only\n",
    "k = 10\n",
    "selector = SelectKBest(score_func=f_classif, k=k)\n",
    "X_train_selected = selector.fit_transform(X_train, y_train)\n",
    "X_test_selected = selector.transform(X_test)  # Transform test data\n",
    "\n",
    "# Get selected features\n",
    "selected_features = X_train.columns[selector.get_support()]\n",
    "print(f\"The {k} best features by SelectKBest are: {selected_features}\")"
   ],
   "outputs": [
    {
     "name": "stdout",
     "output_type": "stream",
     "text": [
      "The 10 best features by SelectKBest are: Index(['Age', 'Cholesterol', 'Blood Pressure', 'Stress Level',\n",
      "       'Smoking_Former', 'Smoking_Never', 'Alcohol Intake_Moderate',\n",
      "       'Family History_Yes', 'Obesity_Yes',\n",
      "       'Chest Pain Type_Non-anginal Pain'],\n",
      "      dtype='object')\n"
     ]
    }
   ],
   "execution_count": 4
  },
  {
   "cell_type": "code",
   "metadata": {
    "ExecuteTime": {
     "end_time": "2025-03-26T23:09:32.647199Z",
     "start_time": "2025-03-26T23:09:32.630669Z"
    }
   },
   "source": [
    "from sklearn.linear_model import LogisticRegression\n",
    "from sklearn.feature_selection import RFE\n",
    "\n",
    "# RFE: Fit on training data only\n",
    "model = LogisticRegression(max_iter=1000)\n",
    "rfe = RFE(estimator=model, n_features_to_select=10)\n",
    "X_train_rfe = rfe.fit_transform(X_train, y_train)\n",
    "X_test_rfe = rfe.transform(X_test)  # Transform test data\n",
    "\n",
    "# Get selected features\n",
    "selected_features_rfe = X_train.columns[rfe.support_]\n",
    "print(f\"The {k} best features are: {selected_features_rfe}\")"
   ],
   "outputs": [
    {
     "name": "stdout",
     "output_type": "stream",
     "text": [
      "The 10 best features are: Index(['Age', 'Cholesterol', 'Blood Pressure', 'Gender_Male', 'Smoking_Former',\n",
      "       'Alcohol Intake_Moderate', 'Family History_Yes',\n",
      "       'Chest Pain Type_Atypical Angina', 'Chest Pain Type_Non-anginal Pain',\n",
      "       'Chest Pain Type_Typical Angina'],\n",
      "      dtype='object')\n"
     ]
    }
   ],
   "execution_count": 5
  }
 ],
 "metadata": {
  "kernelspec": {
   "display_name": "Python 3",
   "language": "python",
   "name": "python3"
  },
  "language_info": {
   "codemirror_mode": {
    "name": "ipython",
    "version": 3
   },
   "file_extension": ".py",
   "mimetype": "text/x-python",
   "name": "python",
   "nbconvert_exporter": "python",
   "pygments_lexer": "ipython3",
   "version": "3.11.5"
  }
 },
 "nbformat": 4,
 "nbformat_minor": 2
}
