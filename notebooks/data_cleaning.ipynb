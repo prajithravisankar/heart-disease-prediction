{
 "cells": [
  {
   "metadata": {
    "ExecuteTime": {
     "end_time": "2025-03-16T22:22:42.627968Z",
     "start_time": "2025-03-16T22:22:42.061151Z"
    }
   },
   "cell_type": "code",
   "source": [
    "# Import necessary libraries\n",
    "import pandas as pd\n",
    "from scipy.stats import zscore\n",
    "\n",
    "# Load the dataset\n",
    "df = pd.read_csv(\"../data/raw/project 2.csv\")\n",
    "\n",
    "# Display first 5 rows of the dataset\n",
    "print(\"First 5 Rows of the Dataset:\")\n",
    "print(df.head())\n",
    "\n",
    "# Check for missing values\n",
    "missing_values = df.isnull().sum()\n",
    "print(\"\\nMissing Values in Each Column:\")\n",
    "print(missing_values)\n",
    "\n",
    "# Check for duplicate rows\n",
    "duplicates = df.duplicated().sum()\n",
    "print(f\"\\nNumber of Duplicate Rows: {duplicates}\")\n",
    "\n",
    "# Detect outliers using Z-scores (threshold ±3)\n",
    "numerical_cols = ['Age', 'Cholesterol', 'Blood Pressure', 'Heart Rate', 'Blood Sugar', 'Stress Level']\n",
    "z_scores = df[numerical_cols].apply(zscore)\n",
    "outliers = df[(z_scores.abs() > 3).any(axis=1)]\n",
    "\n",
    "print(\"\\nOutliers Detected Using Z-Score Method:\")\n",
    "print(outliers)"
   ],
   "id": "f1053f6cf6d51198",
   "outputs": [
    {
     "name": "stdout",
     "output_type": "stream",
     "text": [
      "First 5 Rows of the Dataset:\n",
      "   Age  Gender  Cholesterol  Blood Pressure  Heart Rate  Smoking  \\\n",
      "0   75  Female        228.0           119.0          66  Current   \n",
      "1   48    Male        204.0           165.0          62  Current   \n",
      "2   53    Male        234.0            91.0          67    Never   \n",
      "3   69  Female        192.0            90.0          72  Current   \n",
      "4   62  Female        172.0           163.0          93    Never   \n",
      "\n",
      "  Alcohol Intake  Exercise Hours Family History Diabetes Obesity  \\\n",
      "0          Heavy               0             No       No     Yes   \n",
      "1            NaN               5             No       No      No   \n",
      "2          Heavy               3            Yes       No     Yes   \n",
      "3            NaN               4             No      Yes      No   \n",
      "4            NaN               6             No      Yes      No   \n",
      "\n",
      "   Stress Level  Blood Sugar Exercise Induced Angina   Chest Pain Type  \\\n",
      "0             8          119                     Yes   Atypical Angina   \n",
      "1             9           70                     Yes    Typical Angina   \n",
      "2             5          196                     Yes   Atypical Angina   \n",
      "3             7          107                     Yes  Non-anginal Pain   \n",
      "4             2          183                     Yes      Asymptomatic   \n",
      "\n",
      "   Heart Disease  \n",
      "0              1  \n",
      "1              0  \n",
      "2              1  \n",
      "3              0  \n",
      "4              0  \n",
      "\n",
      "Missing Values in Each Column:\n",
      "Age                          0\n",
      "Gender                       0\n",
      "Cholesterol                  1\n",
      "Blood Pressure               4\n",
      "Heart Rate                   0\n",
      "Smoking                      0\n",
      "Alcohol Intake             340\n",
      "Exercise Hours               0\n",
      "Family History               0\n",
      "Diabetes                     0\n",
      "Obesity                      0\n",
      "Stress Level                 0\n",
      "Blood Sugar                  0\n",
      "Exercise Induced Angina      0\n",
      "Chest Pain Type              0\n",
      "Heart Disease                0\n",
      "dtype: int64\n",
      "\n",
      "Number of Duplicate Rows: 0\n",
      "\n",
      "Outliers Detected Using Z-Score Method:\n",
      "Empty DataFrame\n",
      "Columns: [Age, Gender, Cholesterol, Blood Pressure, Heart Rate, Smoking, Alcohol Intake, Exercise Hours, Family History, Diabetes, Obesity, Stress Level, Blood Sugar, Exercise Induced Angina, Chest Pain Type, Heart Disease]\n",
      "Index: []\n"
     ]
    }
   ],
   "execution_count": 1
  },
  {
   "metadata": {},
   "cell_type": "code",
   "outputs": [],
   "execution_count": null,
   "source": "",
   "id": "e429059e81efa3bc"
  }
 ],
 "metadata": {
  "kernelspec": {
   "name": "python3",
   "language": "python",
   "display_name": "Python 3 (ipykernel)"
  }
 },
 "nbformat": 5,
 "nbformat_minor": 9
}
