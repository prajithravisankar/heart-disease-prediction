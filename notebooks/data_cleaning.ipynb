{
 "cells": [
  {
   "cell_type": "code",
   "execution_count": 4,
   "id": "f1053f6cf6d51198",
   "metadata": {
    "ExecuteTime": {
     "end_time": "2025-03-16T22:22:42.627968Z",
     "start_time": "2025-03-16T22:22:42.061151Z"
    }
   },
   "outputs": [
    {
     "name": "stdout",
     "output_type": "stream",
     "text": [
      "First 5 Rows of the Dataset:\n",
      "   Age  Gender  Cholesterol  Blood Pressure  Heart Rate  Smoking  \\\n",
      "0   75  Female        228.0           119.0          66  Current   \n",
      "1   48    Male        204.0           165.0          62  Current   \n",
      "2   53    Male        234.0            91.0          67    Never   \n",
      "3   69  Female        192.0            90.0          72  Current   \n",
      "4   62  Female        172.0           163.0          93    Never   \n",
      "\n",
      "  Alcohol Intake  Exercise Hours Family History Diabetes Obesity  \\\n",
      "0          Heavy               0             No       No     Yes   \n",
      "1            NaN               5             No       No      No   \n",
      "2          Heavy               3            Yes       No     Yes   \n",
      "3            NaN               4             No      Yes      No   \n",
      "4            NaN               6             No      Yes      No   \n",
      "\n",
      "   Stress Level  Blood Sugar Exercise Induced Angina   Chest Pain Type  \\\n",
      "0             8          119                     Yes   Atypical Angina   \n",
      "1             9           70                     Yes    Typical Angina   \n",
      "2             5          196                     Yes   Atypical Angina   \n",
      "3             7          107                     Yes  Non-anginal Pain   \n",
      "4             2          183                     Yes      Asymptomatic   \n",
      "\n",
      "   Heart Disease  \n",
      "0              1  \n",
      "1              0  \n",
      "2              1  \n",
      "3              0  \n",
      "4              0  \n",
      "\n",
      "Missing Values in Each Column:\n",
      "Age                          0\n",
      "Gender                       0\n",
      "Cholesterol                  1\n",
      "Blood Pressure               4\n",
      "Heart Rate                   0\n",
      "Smoking                      0\n",
      "Alcohol Intake             340\n",
      "Exercise Hours               0\n",
      "Family History               0\n",
      "Diabetes                     0\n",
      "Obesity                      0\n",
      "Stress Level                 0\n",
      "Blood Sugar                  0\n",
      "Exercise Induced Angina      0\n",
      "Chest Pain Type              0\n",
      "Heart Disease                0\n",
      "dtype: int64\n",
      "\n",
      "Number of Duplicate Rows: 0\n",
      "\n",
      "Outliers Detected Using Z-Score Method:\n",
      "Empty DataFrame\n",
      "Columns: [Age, Gender, Cholesterol, Blood Pressure, Heart Rate, Smoking, Alcohol Intake, Exercise Hours, Family History, Diabetes, Obesity, Stress Level, Blood Sugar, Exercise Induced Angina, Chest Pain Type, Heart Disease]\n",
      "Index: []\n"
     ]
    }
   ],
   "source": [
    "# Import necessary libraries\n",
    "import pandas as pd\n",
    "from scipy.stats import zscore\n",
    "\n",
    "# Load the dataset\n",
    "df = pd.read_csv(\"../data/raw/project 2.csv\")\n",
    "\n",
    "# Display first 5 rows of the dataset\n",
    "print(\"First 5 Rows of the Dataset:\")\n",
    "print(df.head())\n",
    "\n",
    "# Check for missing values\n",
    "missing_values = df.isnull().sum()\n",
    "print(\"\\nMissing Values in Each Column:\")\n",
    "print(missing_values)\n",
    "\n",
    "# Check for duplicate rows\n",
    "duplicates = df.duplicated().sum()\n",
    "print(f\"\\nNumber of Duplicate Rows: {duplicates}\")\n",
    "\n",
    "# Detect outliers using Z-scores (threshold ±3)\n",
    "numerical_cols = ['Age', 'Cholesterol', 'Blood Pressure', 'Heart Rate', 'Blood Sugar', 'Stress Level']\n",
    "z_scores = df[numerical_cols].apply(zscore)\n",
    "outliers = df[(z_scores.abs() > 3).any(axis=1)]\n",
    "\n",
    "print(\"\\nOutliers Detected Using Z-Score Method:\")\n",
    "print(outliers)"
   ]
  },
  {
   "cell_type": "code",
   "execution_count": 5,
   "id": "e429059e81efa3bc",
   "metadata": {
    "ExecuteTime": {
     "end_time": "2025-03-16T22:32:52.461819Z",
     "start_time": "2025-03-16T22:32:51.799732Z"
    }
   },
   "outputs": [
    {
     "name": "stdout",
     "output_type": "stream",
     "text": [
      "Missing values handled and saved to ../data/processed/cleaned_data.csv\n"
     ]
    }
   ],
   "source": [
    "# Import necessary libraries\n",
    "import pandas as pd\n",
    "from sklearn.impute import KNNImputer\n",
    "\n",
    "# Load the dataset\n",
    "df = pd.read_csv(\"../data/raw/project 2.csv\")\n",
    "\n",
    "# Separate numerical and categorical columns\n",
    "numerical_cols = ['Age', 'Cholesterol', 'Blood Pressure', 'Heart Rate', 'Blood Sugar', 'Stress Level']\n",
    "categorical_cols = ['Gender', 'Smoking', 'Alcohol Intake', 'Exercise Hours', 'Family History',\n",
    "                    'Diabetes', 'Obesity', 'Exercise Induced Angina', 'Chest Pain Type', 'Heart Disease']\n",
    "\n",
    "# Encode categorical variables temporarily (required for KNNImputer)\n",
    "df_encoded = pd.get_dummies(df, columns=['Gender', 'Smoking', 'Alcohol Intake', 'Family History',\n",
    "                                         'Diabetes', 'Obesity', 'Exercise Induced Angina',\n",
    "                                         'Chest Pain Type'], drop_first=True)\n",
    "\n",
    "# Initialize KNNImputer\n",
    "imputer = KNNImputer(n_neighbors=5)\n",
    "\n",
    "# Apply KNNImputer to numerical columns\n",
    "df_imputed = df_encoded.copy()\n",
    "df_imputed[numerical_cols] = imputer.fit_transform(df_encoded[numerical_cols])\n",
    "\n",
    "# Decode categorical variables back to original format\n",
    "df_final = df_imputed.copy()\n",
    "\n",
    "# Save the cleaned data to a new CSV file\n",
    "df_final.to_csv(\"../data/processed/cleaned_data.csv\", index=False)\n",
    "\n",
    "print(\"Missing values handled and saved to ../data/processed/cleaned_data.csv\")"
   ]
  },
  {
   "cell_type": "code",
   "execution_count": 6,
   "id": "c6fa17c382142958",
   "metadata": {
    "ExecuteTime": {
     "end_time": "2025-03-16T22:45:20.256718Z",
     "start_time": "2025-03-16T22:45:20.248206Z"
    }
   },
   "outputs": [
    {
     "name": "stdout",
     "output_type": "stream",
     "text": [
      "First 5 Rows of the Dataset:\n",
      "    Age  Cholesterol  Blood Pressure  Heart Rate  Exercise Hours  \\\n",
      "0  75.0        228.0           119.0        66.0               0   \n",
      "1  48.0        204.0           165.0        62.0               5   \n",
      "2  53.0        234.0            91.0        67.0               3   \n",
      "3  69.0        192.0            90.0        72.0               4   \n",
      "4  62.0        172.0           163.0        93.0               6   \n",
      "\n",
      "   Stress Level  Blood Sugar  Heart Disease  Gender_Male  Smoking_Former  \\\n",
      "0           8.0        119.0              1        False           False   \n",
      "1           9.0         70.0              0         True           False   \n",
      "2           5.0        196.0              1         True           False   \n",
      "3           7.0        107.0              0        False           False   \n",
      "4           2.0        183.0              0        False           False   \n",
      "\n",
      "   Smoking_Never  Alcohol Intake_Moderate  Family History_Yes  Diabetes_Yes  \\\n",
      "0          False                    False               False         False   \n",
      "1          False                    False               False         False   \n",
      "2           True                    False                True         False   \n",
      "3          False                    False               False          True   \n",
      "4           True                    False               False          True   \n",
      "\n",
      "   Obesity_Yes  Exercise Induced Angina_Yes  Chest Pain Type_Atypical Angina  \\\n",
      "0         True                         True                             True   \n",
      "1        False                         True                            False   \n",
      "2         True                         True                             True   \n",
      "3        False                         True                            False   \n",
      "4        False                         True                            False   \n",
      "\n",
      "   Chest Pain Type_Non-anginal Pain  Chest Pain Type_Typical Angina  \n",
      "0                             False                           False  \n",
      "1                             False                            True  \n",
      "2                             False                           False  \n",
      "3                              True                           False  \n",
      "4                             False                           False  \n"
     ]
    }
   ],
   "source": [
    "# checking if the cleaned data csv is loading or not\n",
    "\n",
    "# Import necessary libraries\n",
    "import pandas as pd\n",
    "\n",
    "# Load the cleaned dataset\n",
    "df = pd.read_csv(\"../data/processed/cleaned_data.csv\")\n",
    "\n",
    "# Display first 5 rows of the dataset\n",
    "print(\"First 5 Rows of the Dataset:\")\n",
    "print(df.head())"
   ]
  },
  {
   "cell_type": "code",
   "execution_count": 7,
   "id": "bec4cfe8dbac0ad3",
   "metadata": {
    "ExecuteTime": {
     "end_time": "2025-03-16T22:49:17.534408Z",
     "start_time": "2025-03-16T22:49:17.529525Z"
    }
   },
   "outputs": [
    {
     "name": "stdout",
     "output_type": "stream",
     "text": [
      "Gender Encoding:\n",
      "Gender_Male\n",
      "False    503\n",
      "True     497\n",
      "Name: count, dtype: int64\n"
     ]
    }
   ],
   "source": [
    "# Check the distribution of Gender_Male\n",
    "print(\"Gender Encoding:\")\n",
    "print(df['Gender_Male'].value_counts())"
   ]
  },
  {
   "cell_type": "code",
   "execution_count": 8,
   "id": "f8de86a202a8fecd",
   "metadata": {
    "ExecuteTime": {
     "end_time": "2025-03-16T22:49:40.437209Z",
     "start_time": "2025-03-16T22:49:40.428847Z"
    }
   },
   "outputs": [
    {
     "name": "stdout",
     "output_type": "stream",
     "text": [
      "\n",
      "Final encoded dataset saved to ../data/processed/encoded_data.csv\n"
     ]
    }
   ],
   "source": [
    "# Save the final encoded dataset\n",
    "df.to_csv(\"../data/processed/encoded_data.csv\", index=False)\n",
    "\n",
    "print(\"\\nFinal encoded dataset saved to ../data/processed/encoded_data.csv\")"
   ]
  },
  {
   "cell_type": "code",
   "execution_count": 9,
   "id": "7919f2d7d950dddf",
   "metadata": {
    "ExecuteTime": {
     "end_time": "2025-03-16T23:02:41.748497Z",
     "start_time": "2025-03-16T23:02:41.745271Z"
    }
   },
   "outputs": [
    {
     "name": "stdout",
     "output_type": "stream",
     "text": [
      "Index(['Age', 'Cholesterol', 'Blood Pressure', 'Heart Rate', 'Exercise Hours',\n",
      "       'Stress Level', 'Blood Sugar', 'Heart Disease', 'Gender_Male',\n",
      "       'Smoking_Former', 'Smoking_Never', 'Alcohol Intake_Moderate',\n",
      "       'Family History_Yes', 'Diabetes_Yes', 'Obesity_Yes',\n",
      "       'Exercise Induced Angina_Yes', 'Chest Pain Type_Atypical Angina',\n",
      "       'Chest Pain Type_Non-anginal Pain', 'Chest Pain Type_Typical Angina'],\n",
      "      dtype='object')\n"
     ]
    }
   ],
   "source": [
    "print(df.columns)"
   ]
  },
  {
   "cell_type": "code",
   "execution_count": 10,
   "id": "2db0fe7fb3ddd4ec",
   "metadata": {
    "ExecuteTime": {
     "end_time": "2025-03-16T23:05:49.855577Z",
     "start_time": "2025-03-16T23:05:49.845658Z"
    }
   },
   "outputs": [
    {
     "name": "stdout",
     "output_type": "stream",
     "text": [
      "Encoded Columns:\n",
      "Index(['Age', 'Cholesterol', 'Blood Pressure', 'Heart Rate', 'Exercise Hours',\n",
      "       'Stress Level', 'Blood Sugar', 'Heart Disease', 'Gender_Male',\n",
      "       'Smoking_Former', 'Smoking_Never', 'Alcohol Intake_Moderate',\n",
      "       'Family History_Yes', 'Diabetes_Yes', 'Obesity_Yes',\n",
      "       'Exercise Induced Angina_Yes', 'Chest Pain Type_Atypical Angina',\n",
      "       'Chest Pain Type_Non-anginal Pain', 'Chest Pain Type_Typical Angina'],\n",
      "      dtype='object')\n"
     ]
    }
   ],
   "source": [
    "# 7:05 pm March 16, there are some mistakes with KNNImputer\n",
    "\n",
    "# Load raw data\n",
    "df = pd.read_csv(\"../data/raw/project 2.csv\")\n",
    "\n",
    "# One-hot encode categorical variables (WITHOUT dropping the target)\n",
    "categorical_cols = ['Gender', 'Smoking', 'Alcohol Intake', 'Family History',\n",
    "                    'Diabetes', 'Obesity', 'Exercise Induced Angina', 'Chest Pain Type']\n",
    "df_encoded = pd.get_dummies(df, columns=categorical_cols, drop_first=True)\n",
    "\n",
    "# Verify all encoded columns:\n",
    "print(\"Encoded Columns:\")\n",
    "print(df_encoded.columns)"
   ]
  },
  {
   "cell_type": "code",
   "execution_count": 9,
   "id": "83292bd941ab6b49",
   "metadata": {
    "ExecuteTime": {
     "end_time": "2025-03-16T23:06:04.983005Z",
     "start_time": "2025-03-16T23:06:04.978526Z"
    }
   },
   "outputs": [],
   "source": [
    "# Split data into features (X) and target (y)\n",
    "X = df_encoded.drop(columns=['Heart Disease'])\n",
    "y = df_encoded['Heart Disease']"
   ]
  },
  {
   "cell_type": "code",
   "execution_count": 10,
   "id": "e490fa411597130",
   "metadata": {
    "ExecuteTime": {
     "end_time": "2025-03-16T23:09:16.950465Z",
     "start_time": "2025-03-16T23:09:16.931272Z"
    }
   },
   "outputs": [],
   "source": [
    "# Load raw data\n",
    "df = pd.read_csv(\"../data/raw/project 2.csv\")\n",
    "\n",
    "# Split into original numerical and categorical columns\n",
    "numerical_cols = ['Age', 'Cholesterol', 'Blood Pressure', 'Heart Rate',\n",
    "                 'Exercise Hours', 'Stress Level', 'Blood Sugar']\n",
    "categorical_cols = ['Gender', 'Smoking', 'Alcohol Intake', 'Family History',\n",
    "                    'Diabetes', 'Obesity', 'Exercise Induced Angina',\n",
    "                    'Chest Pain Type']\n",
    "\n",
    "# Impute numerical columns with KNNImputer\n",
    "from sklearn.impute import KNNImputer\n",
    "imputer_numerical = KNNImputer(n_neighbors=5)\n",
    "df[numerical_cols] = imputer_numerical.fit_transform(df[numerical_cols])\n",
    "\n",
    "# Impute categorical columns with SimpleImputer\n",
    "from sklearn.impute import SimpleImputer\n",
    "imputer_categorical = SimpleImputer(strategy='most_frequent')\n",
    "df[categorical_cols] = imputer_categorical.fit_transform(df[categorical_cols])\n",
    "\n",
    "# Now encode categorical variables\n",
    "df_encoded = pd.get_dummies(df, columns=categorical_cols, drop_first=True)\n",
    "\n",
    "# Save the cleaned dataset\n",
    "df_encoded.to_csv(\"../data/processed/cleaned_data.csv\", index=False)"
   ]
  },
  {
   "cell_type": "code",
   "execution_count": null,
   "id": "a62ff6373a3e9721",
   "metadata": {},
   "outputs": [],
   "source": []
  }
 ],
 "metadata": {
  "kernelspec": {
   "display_name": "Python 3",
   "language": "python",
   "name": "python3"
  },
  "language_info": {
   "codemirror_mode": {
    "name": "ipython",
    "version": 3
   },
   "file_extension": ".py",
   "mimetype": "text/x-python",
   "name": "python",
   "nbconvert_exporter": "python",
   "pygments_lexer": "ipython3",
   "version": "3.11.5"
  }
 },
 "nbformat": 5,
 "nbformat_minor": 9
}
