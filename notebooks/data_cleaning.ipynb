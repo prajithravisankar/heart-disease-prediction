{
 "cells": [
  {
   "cell_type": "code",
   "id": "f1053f6cf6d51198",
   "metadata": {
    "ExecuteTime": {
     "end_time": "2025-03-26T23:00:21.223387Z",
     "start_time": "2025-03-26T23:00:21.209426Z"
    }
   },
   "source": [
    "# Import necessary libraries\n",
    "import pandas as pd\n",
    "from scipy.stats import zscore\n",
    "\n",
    "# Load the dataset\n",
    "df = pd.read_csv(\"../data/raw/project 2.csv\")\n",
    "\n",
    "# Display first 5 rows of the dataset\n",
    "print(\"First 5 Rows of the Dataset:\")\n",
    "print(df.head())\n",
    "\n",
    "# Check for missing values\n",
    "missing_values = df.isnull().sum()\n",
    "print(\"\\nMissing Values in Each Column:\")\n",
    "print(missing_values)\n",
    "\n",
    "# Check for duplicate rows\n",
    "duplicates = df.duplicated().sum()\n",
    "print(f\"\\nNumber of Duplicate Rows: {duplicates}\")\n",
    "\n",
    "# Detect outliers using Z-scores (threshold ±3)\n",
    "numerical_cols = ['Age', 'Cholesterol', 'Blood Pressure', 'Heart Rate', 'Blood Sugar', 'Stress Level']\n",
    "z_scores = df[numerical_cols].apply(zscore)\n",
    "outliers = df[(z_scores.abs() > 3).any(axis=1)]\n",
    "\n",
    "print(\"\\nOutliers Detected Using Z-Score Method:\")\n",
    "print(outliers)"
   ],
   "outputs": [
    {
     "name": "stdout",
     "output_type": "stream",
     "text": [
      "First 5 Rows of the Dataset:\n",
      "   Age  Gender  Cholesterol  Blood Pressure  Heart Rate  Smoking  \\\n",
      "0   75  Female        228.0           119.0          66  Current   \n",
      "1   48    Male        204.0           165.0          62  Current   \n",
      "2   53    Male        234.0            91.0          67    Never   \n",
      "3   69  Female        192.0            90.0          72  Current   \n",
      "4   62  Female        172.0           163.0          93    Never   \n",
      "\n",
      "  Alcohol Intake  Exercise Hours Family History Diabetes Obesity  \\\n",
      "0          Heavy               0             No       No     Yes   \n",
      "1            NaN               5             No       No      No   \n",
      "2          Heavy               3            Yes       No     Yes   \n",
      "3            NaN               4             No      Yes      No   \n",
      "4            NaN               6             No      Yes      No   \n",
      "\n",
      "   Stress Level  Blood Sugar Exercise Induced Angina   Chest Pain Type  \\\n",
      "0             8          119                     Yes   Atypical Angina   \n",
      "1             9           70                     Yes    Typical Angina   \n",
      "2             5          196                     Yes   Atypical Angina   \n",
      "3             7          107                     Yes  Non-anginal Pain   \n",
      "4             2          183                     Yes      Asymptomatic   \n",
      "\n",
      "   Heart Disease  \n",
      "0              1  \n",
      "1              0  \n",
      "2              1  \n",
      "3              0  \n",
      "4              0  \n",
      "\n",
      "Missing Values in Each Column:\n",
      "Age                          0\n",
      "Gender                       0\n",
      "Cholesterol                  1\n",
      "Blood Pressure               4\n",
      "Heart Rate                   0\n",
      "Smoking                      0\n",
      "Alcohol Intake             340\n",
      "Exercise Hours               0\n",
      "Family History               0\n",
      "Diabetes                     0\n",
      "Obesity                      0\n",
      "Stress Level                 0\n",
      "Blood Sugar                  0\n",
      "Exercise Induced Angina      0\n",
      "Chest Pain Type              0\n",
      "Heart Disease                0\n",
      "dtype: int64\n",
      "\n",
      "Number of Duplicate Rows: 0\n",
      "\n",
      "Outliers Detected Using Z-Score Method:\n",
      "Empty DataFrame\n",
      "Columns: [Age, Gender, Cholesterol, Blood Pressure, Heart Rate, Smoking, Alcohol Intake, Exercise Hours, Family History, Diabetes, Obesity, Stress Level, Blood Sugar, Exercise Induced Angina, Chest Pain Type, Heart Disease]\n",
      "Index: []\n"
     ]
    }
   ],
   "execution_count": 10
  },
  {
   "cell_type": "code",
   "id": "e429059e81efa3bc",
   "metadata": {
    "ExecuteTime": {
     "end_time": "2025-03-26T23:00:21.258087Z",
     "start_time": "2025-03-26T23:00:21.242632Z"
    }
   },
   "source": [
    "# Import necessary libraries\n",
    "import pandas as pd\n",
    "from sklearn.impute import KNNImputer\n",
    "\n",
    "# Load the dataset\n",
    "df = pd.read_csv(\"../data/raw/project 2.csv\")\n",
    "\n",
    "# ====== NEW: SEPARATE TARGET VARIABLE ======\n",
    "y = df[\"Heart Disease\"]  # Target\n",
    "X = df.drop(\"Heart Disease\", axis=1)  # Features\n",
    "\n",
    "# Separate numerical and categorical columns (FROM X, NOT df)\n",
    "numerical_cols = ['Age', 'Cholesterol', 'Blood Pressure', 'Heart Rate', 'Blood Sugar', 'Stress Level']\n",
    "categorical_cols = ['Gender', 'Smoking', 'Alcohol Intake', 'Exercise Hours', 'Family History',\n",
    "                    'Diabetes', 'Obesity', 'Exercise Induced Angina', 'Chest Pain Type']  # Removed 'Heart Disease'\n",
    "\n",
    "# Encode categorical variables temporarily\n",
    "X_encoded = pd.get_dummies(X, columns=categorical_cols, drop_first=True)\n",
    "\n",
    "# Apply KNNImputer to numerical columns\n",
    "imputer = KNNImputer(n_neighbors=5)\n",
    "X_imputed = imputer.fit_transform(X_encoded)\n",
    "\n",
    "# Convert back to DataFrame\n",
    "X_imputed = pd.DataFrame(X_imputed, columns=X_encoded.columns)\n",
    "\n",
    "# ====== COMBINE WITH TARGET AFTER IMPUTATION ======\n",
    "df_final = pd.concat([X_imputed, y], axis=1)\n",
    "\n",
    "# Save cleaned data\n",
    "df_final.to_csv(\"../data/processed/cleaned_data.csv\", index=False)\n",
    "print(\"Missing values handled and saved to ../data/processed/cleaned_data.csv\")"
   ],
   "outputs": [
    {
     "name": "stdout",
     "output_type": "stream",
     "text": [
      "Missing values handled and saved to ../data/processed/cleaned_data.csv\n"
     ]
    }
   ],
   "execution_count": 11
  },
  {
   "cell_type": "code",
   "id": "c6fa17c382142958",
   "metadata": {
    "ExecuteTime": {
     "end_time": "2025-03-26T23:00:21.279347Z",
     "start_time": "2025-03-26T23:00:21.272923Z"
    }
   },
   "source": [
    "# checking if the cleaned data csv is loading or not\n",
    "\n",
    "# Import necessary libraries\n",
    "import pandas as pd\n",
    "\n",
    "# Load the cleaned dataset\n",
    "df = pd.read_csv(\"../data/processed/cleaned_data.csv\")\n",
    "\n",
    "# Display first 5 rows of the dataset\n",
    "print(\"First 5 Rows of the Dataset:\")\n",
    "print(df.head())"
   ],
   "outputs": [
    {
     "name": "stdout",
     "output_type": "stream",
     "text": [
      "First 5 Rows of the Dataset:\n",
      "    Age  Cholesterol  Blood Pressure  Heart Rate  Stress Level  Blood Sugar  \\\n",
      "0  75.0        228.0           119.0        66.0           8.0        119.0   \n",
      "1  48.0        204.0           165.0        62.0           9.0         70.0   \n",
      "2  53.0        234.0            91.0        67.0           5.0        196.0   \n",
      "3  69.0        192.0            90.0        72.0           7.0        107.0   \n",
      "4  62.0        172.0           163.0        93.0           2.0        183.0   \n",
      "\n",
      "   Gender_Male  Smoking_Former  Smoking_Never  Alcohol Intake_Moderate  ...  \\\n",
      "0          0.0             0.0            0.0                      0.0  ...   \n",
      "1          1.0             0.0            0.0                      0.0  ...   \n",
      "2          1.0             0.0            1.0                      0.0  ...   \n",
      "3          0.0             0.0            0.0                      0.0  ...   \n",
      "4          0.0             0.0            1.0                      0.0  ...   \n",
      "\n",
      "   Exercise Hours_8  Exercise Hours_9  Family History_Yes  Diabetes_Yes  \\\n",
      "0               0.0               0.0                 0.0           0.0   \n",
      "1               0.0               0.0                 0.0           0.0   \n",
      "2               0.0               0.0                 1.0           0.0   \n",
      "3               0.0               0.0                 0.0           1.0   \n",
      "4               0.0               0.0                 0.0           1.0   \n",
      "\n",
      "   Obesity_Yes  Exercise Induced Angina_Yes  Chest Pain Type_Atypical Angina  \\\n",
      "0          1.0                          1.0                              1.0   \n",
      "1          0.0                          1.0                              0.0   \n",
      "2          1.0                          1.0                              1.0   \n",
      "3          0.0                          1.0                              0.0   \n",
      "4          0.0                          1.0                              0.0   \n",
      "\n",
      "   Chest Pain Type_Non-anginal Pain  Chest Pain Type_Typical Angina  \\\n",
      "0                               0.0                             0.0   \n",
      "1                               0.0                             1.0   \n",
      "2                               0.0                             0.0   \n",
      "3                               1.0                             0.0   \n",
      "4                               0.0                             0.0   \n",
      "\n",
      "   Heart Disease  \n",
      "0              1  \n",
      "1              0  \n",
      "2              1  \n",
      "3              0  \n",
      "4              0  \n",
      "\n",
      "[5 rows x 27 columns]\n"
     ]
    }
   ],
   "execution_count": 12
  },
  {
   "cell_type": "code",
   "id": "bec4cfe8dbac0ad3",
   "metadata": {
    "ExecuteTime": {
     "end_time": "2025-03-26T23:00:21.284489Z",
     "start_time": "2025-03-26T23:00:21.282532Z"
    }
   },
   "source": [
    "# Check the distribution of Gender_Male\n",
    "print(\"Gender Encoding:\")\n",
    "print(df['Gender_Male'].value_counts())"
   ],
   "outputs": [
    {
     "name": "stdout",
     "output_type": "stream",
     "text": [
      "Gender Encoding:\n",
      "Gender_Male\n",
      "0.0    503\n",
      "1.0    497\n",
      "Name: count, dtype: int64\n"
     ]
    }
   ],
   "execution_count": 13
  },
  {
   "cell_type": "code",
   "id": "f8de86a202a8fecd",
   "metadata": {
    "ExecuteTime": {
     "end_time": "2025-03-26T23:00:21.305311Z",
     "start_time": "2025-03-26T23:00:21.297990Z"
    }
   },
   "source": [
    "# Save the final encoded dataset\n",
    "df.to_csv(\"../data/processed/encoded_data.csv\", index=False)\n",
    "\n",
    "print(\"\\nFinal encoded dataset saved to ../data/processed/encoded_data.csv\")"
   ],
   "outputs": [
    {
     "name": "stdout",
     "output_type": "stream",
     "text": [
      "\n",
      "Final encoded dataset saved to ../data/processed/encoded_data.csv\n"
     ]
    }
   ],
   "execution_count": 14
  },
  {
   "cell_type": "code",
   "id": "7919f2d7d950dddf",
   "metadata": {
    "ExecuteTime": {
     "end_time": "2025-03-26T23:00:21.321032Z",
     "start_time": "2025-03-26T23:00:21.319071Z"
    }
   },
   "source": [
    "print(df.columns)"
   ],
   "outputs": [
    {
     "name": "stdout",
     "output_type": "stream",
     "text": [
      "Index(['Age', 'Cholesterol', 'Blood Pressure', 'Heart Rate', 'Stress Level',\n",
      "       'Blood Sugar', 'Gender_Male', 'Smoking_Former', 'Smoking_Never',\n",
      "       'Alcohol Intake_Moderate', 'Exercise Hours_1', 'Exercise Hours_2',\n",
      "       'Exercise Hours_3', 'Exercise Hours_4', 'Exercise Hours_5',\n",
      "       'Exercise Hours_6', 'Exercise Hours_7', 'Exercise Hours_8',\n",
      "       'Exercise Hours_9', 'Family History_Yes', 'Diabetes_Yes', 'Obesity_Yes',\n",
      "       'Exercise Induced Angina_Yes', 'Chest Pain Type_Atypical Angina',\n",
      "       'Chest Pain Type_Non-anginal Pain', 'Chest Pain Type_Typical Angina',\n",
      "       'Heart Disease'],\n",
      "      dtype='object')\n"
     ]
    }
   ],
   "execution_count": 15
  },
  {
   "cell_type": "code",
   "id": "2db0fe7fb3ddd4ec",
   "metadata": {
    "ExecuteTime": {
     "end_time": "2025-03-26T23:00:21.339335Z",
     "start_time": "2025-03-26T23:00:21.333788Z"
    }
   },
   "source": [
    "# 7:05 pm March 16, there are some mistakes with KNNImputer\n",
    "\n",
    "# Load raw data\n",
    "df = pd.read_csv(\"../data/raw/project 2.csv\")\n",
    "\n",
    "# One-hot encode categorical variables (WITHOUT dropping the target)\n",
    "categorical_cols = ['Gender', 'Smoking', 'Alcohol Intake', 'Family History',\n",
    "                    'Diabetes', 'Obesity', 'Exercise Induced Angina', 'Chest Pain Type']\n",
    "df_encoded = pd.get_dummies(df, columns=categorical_cols, drop_first=True)\n",
    "\n",
    "# Verify all encoded columns:\n",
    "print(\"Encoded Columns:\")\n",
    "print(df_encoded.columns)"
   ],
   "outputs": [
    {
     "name": "stdout",
     "output_type": "stream",
     "text": [
      "Encoded Columns:\n",
      "Index(['Age', 'Cholesterol', 'Blood Pressure', 'Heart Rate', 'Exercise Hours',\n",
      "       'Stress Level', 'Blood Sugar', 'Heart Disease', 'Gender_Male',\n",
      "       'Smoking_Former', 'Smoking_Never', 'Alcohol Intake_Moderate',\n",
      "       'Family History_Yes', 'Diabetes_Yes', 'Obesity_Yes',\n",
      "       'Exercise Induced Angina_Yes', 'Chest Pain Type_Atypical Angina',\n",
      "       'Chest Pain Type_Non-anginal Pain', 'Chest Pain Type_Typical Angina'],\n",
      "      dtype='object')\n"
     ]
    }
   ],
   "execution_count": 16
  },
  {
   "cell_type": "code",
   "id": "83292bd941ab6b49",
   "metadata": {
    "ExecuteTime": {
     "end_time": "2025-03-26T23:00:21.353470Z",
     "start_time": "2025-03-26T23:00:21.351337Z"
    }
   },
   "source": [
    "# Split data into features (X) and target (y)\n",
    "X = df_encoded.drop(columns=['Heart Disease'])\n",
    "y = df_encoded['Heart Disease']"
   ],
   "outputs": [],
   "execution_count": 17
  },
  {
   "cell_type": "code",
   "id": "e490fa411597130",
   "metadata": {
    "ExecuteTime": {
     "end_time": "2025-03-26T23:00:21.375201Z",
     "start_time": "2025-03-26T23:00:21.364691Z"
    }
   },
   "source": [
    "# Load raw data\n",
    "df = pd.read_csv(\"../data/raw/project 2.csv\")\n",
    "\n",
    "# Split into original numerical and categorical columns\n",
    "numerical_cols = ['Age', 'Cholesterol', 'Blood Pressure', 'Heart Rate',\n",
    "                 'Exercise Hours', 'Stress Level', 'Blood Sugar']\n",
    "categorical_cols = ['Gender', 'Smoking', 'Alcohol Intake', 'Family History',\n",
    "                    'Diabetes', 'Obesity', 'Exercise Induced Angina',\n",
    "                    'Chest Pain Type']\n",
    "\n",
    "# Impute numerical columns with KNNImputer\n",
    "from sklearn.impute import KNNImputer\n",
    "imputer_numerical = KNNImputer(n_neighbors=5)\n",
    "df[numerical_cols] = imputer_numerical.fit_transform(df[numerical_cols])\n",
    "\n",
    "# Impute categorical columns with SimpleImputer\n",
    "from sklearn.impute import SimpleImputer\n",
    "imputer_categorical = SimpleImputer(strategy='most_frequent')\n",
    "df[categorical_cols] = imputer_categorical.fit_transform(df[categorical_cols])\n",
    "\n",
    "# Now encode categorical variables\n",
    "df_encoded = pd.get_dummies(df, columns=categorical_cols, drop_first=True)\n",
    "\n",
    "# Save the cleaned dataset\n",
    "df_encoded.to_csv(\"../data/processed/cleaned_data.csv\", index=False)"
   ],
   "outputs": [],
   "execution_count": 18
  },
  {
   "cell_type": "code",
   "id": "a62ff6373a3e9721",
   "metadata": {
    "ExecuteTime": {
     "end_time": "2025-03-26T23:00:21.387701Z",
     "start_time": "2025-03-26T23:00:21.386604Z"
    }
   },
   "source": [],
   "outputs": [],
   "execution_count": null
  }
 ],
 "metadata": {
  "kernelspec": {
   "display_name": "Python 3",
   "language": "python",
   "name": "python3"
  },
  "language_info": {
   "codemirror_mode": {
    "name": "ipython",
    "version": 3
   },
   "file_extension": ".py",
   "mimetype": "text/x-python",
   "name": "python",
   "nbconvert_exporter": "python",
   "pygments_lexer": "ipython3",
   "version": "3.11.5"
  }
 },
 "nbformat": 5,
 "nbformat_minor": 9
}
